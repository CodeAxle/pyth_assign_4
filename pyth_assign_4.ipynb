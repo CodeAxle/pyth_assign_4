{
 "cells": [
  {
   "cell_type": "markdown",
   "id": "8b606ec2",
   "metadata": {},
   "source": [
    "# 1."
   ]
  },
  {
   "cell_type": "code",
   "execution_count": 1,
   "id": "8f4838b3",
   "metadata": {},
   "outputs": [],
   "source": [
    "# [] is a empty list (array)."
   ]
  },
  {
   "cell_type": "markdown",
   "id": "dab801ba",
   "metadata": {},
   "source": [
    "# 2."
   ]
  },
  {
   "cell_type": "code",
   "execution_count": 2,
   "id": "de4c574f",
   "metadata": {},
   "outputs": [
    {
     "name": "stdout",
     "output_type": "stream",
     "text": [
      "[2, 4, 'hello', 8, 10]\n"
     ]
    }
   ],
   "source": [
    "spam = [2,4,6,8,10]\n",
    "spam[2] = 'hello'\n",
    "print(spam)"
   ]
  },
  {
   "cell_type": "markdown",
   "id": "b40a864b",
   "metadata": {},
   "source": [
    "# 3."
   ]
  },
  {
   "cell_type": "code",
   "execution_count": 3,
   "id": "57c650fd",
   "metadata": {},
   "outputs": [
    {
     "data": {
      "text/plain": [
       "8"
      ]
     },
     "execution_count": 3,
     "metadata": {},
     "output_type": "execute_result"
    }
   ],
   "source": [
    "spam[int(int('3' * 2) / 11)]"
   ]
  },
  {
   "cell_type": "markdown",
   "id": "f2e61f27",
   "metadata": {},
   "source": [
    "# 4."
   ]
  },
  {
   "cell_type": "code",
   "execution_count": 4,
   "id": "ef59ea4f",
   "metadata": {},
   "outputs": [
    {
     "data": {
      "text/plain": [
       "10"
      ]
     },
     "execution_count": 4,
     "metadata": {},
     "output_type": "execute_result"
    }
   ],
   "source": [
    "spam[-1]"
   ]
  },
  {
   "cell_type": "markdown",
   "id": "f7223f82",
   "metadata": {},
   "source": [
    "# 5."
   ]
  },
  {
   "cell_type": "code",
   "execution_count": 5,
   "id": "cbc20a25",
   "metadata": {},
   "outputs": [
    {
     "data": {
      "text/plain": [
       "[2, 4]"
      ]
     },
     "execution_count": 5,
     "metadata": {},
     "output_type": "execute_result"
    }
   ],
   "source": [
    "spam[:2]"
   ]
  },
  {
   "cell_type": "markdown",
   "id": "9502f5aa",
   "metadata": {},
   "source": [
    "# 6."
   ]
  },
  {
   "cell_type": "code",
   "execution_count": 6,
   "id": "2d46a824",
   "metadata": {},
   "outputs": [],
   "source": [
    "bacon = [3.14, 'cat', 11, 'cat', True]"
   ]
  },
  {
   "cell_type": "code",
   "execution_count": 7,
   "id": "2259a161",
   "metadata": {},
   "outputs": [
    {
     "data": {
      "text/plain": [
       "1"
      ]
     },
     "execution_count": 7,
     "metadata": {},
     "output_type": "execute_result"
    }
   ],
   "source": [
    "bacon.index('cat') #index returns the position of first occurance in case of repeatition "
   ]
  },
  {
   "cell_type": "markdown",
   "id": "3b5a44fe",
   "metadata": {},
   "source": [
    "# 7."
   ]
  },
  {
   "cell_type": "code",
   "execution_count": 8,
   "id": "dccdcfcb",
   "metadata": {},
   "outputs": [
    {
     "name": "stdout",
     "output_type": "stream",
     "text": [
      "[3.14, 'cat', 11, 'cat', True, 99]\n"
     ]
    }
   ],
   "source": [
    "bacon.append(99)\n",
    "print(bacon)"
   ]
  },
  {
   "cell_type": "markdown",
   "id": "5de8f8fd",
   "metadata": {},
   "source": [
    "# 8."
   ]
  },
  {
   "cell_type": "code",
   "execution_count": 9,
   "id": "d1e008a8",
   "metadata": {},
   "outputs": [
    {
     "name": "stdout",
     "output_type": "stream",
     "text": [
      "[3.14, 11, 'cat', True, 99]\n"
     ]
    }
   ],
   "source": [
    "bacon.remove('cat')\n",
    "print(bacon) # reomve every occurance of 'cat'"
   ]
  },
  {
   "cell_type": "markdown",
   "id": "b9695100",
   "metadata": {},
   "source": [
    "# 9."
   ]
  },
  {
   "cell_type": "code",
   "execution_count": 26,
   "id": "d7cee8cd",
   "metadata": {},
   "outputs": [
    {
     "name": "stdout",
     "output_type": "stream",
     "text": [
      "[1, 2, 3, 4, 5, 6]\n"
     ]
    }
   ],
   "source": [
    "# List Concatenation (+):\n",
    "# The + operator is used to concatenate (combine) two or more lists into a single list.\n",
    "\n",
    "#example\n",
    "list1 = [1, 2, 3]\n",
    "list2 = [4, 5, 6]\n",
    "combined_list = list1 + list2\n",
    "print(combined_list)  # Output: [1, 2, 3, 4, 5, 6]"
   ]
  },
  {
   "cell_type": "code",
   "execution_count": null,
   "id": "1bc708bb",
   "metadata": {},
   "outputs": [],
   "source": [
    "List Replication (*):\n",
    "\n",
    "The * operator is used to replicate (repeat) a list a specified number of times.\n"
   ]
  },
  {
   "cell_type": "markdown",
   "id": "dcbc6d15",
   "metadata": {},
   "source": [
    "# 10."
   ]
  },
  {
   "cell_type": "code",
   "execution_count": 10,
   "id": "8fe843f1",
   "metadata": {},
   "outputs": [
    {
     "name": "stdout",
     "output_type": "stream",
     "text": [
      "[3.14, 11, 'cat', True, 99, 100]\n"
     ]
    }
   ],
   "source": [
    "bacon.append(100) # append adds elements at the end of the array\n",
    "print(bacon)"
   ]
  },
  {
   "cell_type": "code",
   "execution_count": 11,
   "id": "c39b838f",
   "metadata": {},
   "outputs": [
    {
     "name": "stdout",
     "output_type": "stream",
     "text": [
      "[3.14, 11, 'cat', True, 10, 99, 100]\n"
     ]
    }
   ],
   "source": [
    "bacon.insert(4,10) #insert adds elements at a specified location, as list.insert(index,element) takes 2 inputs\n",
    "print(bacon)"
   ]
  },
  {
   "cell_type": "markdown",
   "id": "28e1dfd5",
   "metadata": {},
   "source": [
    "# 11."
   ]
  },
  {
   "cell_type": "code",
   "execution_count": 12,
   "id": "45ef9638",
   "metadata": {},
   "outputs": [
    {
     "name": "stdout",
     "output_type": "stream",
     "text": [
      "[3.14, 11, True, 10, 99, 100]\n"
     ]
    }
   ],
   "source": [
    "# list.remove(element) method\n",
    "# deletes specified element\n",
    "bacon.remove('cat')\n",
    "print(bacon)"
   ]
  },
  {
   "cell_type": "code",
   "execution_count": 14,
   "id": "a0ca02e1",
   "metadata": {},
   "outputs": [
    {
     "name": "stdout",
     "output_type": "stream",
     "text": [
      "[3.14, 11, True, 10, 100]\n"
     ]
    }
   ],
   "source": [
    "# list.pop(element) method\n",
    "# deletes element at an index(location) \n",
    "bacon.pop(4)\n",
    "print(bacon)"
   ]
  },
  {
   "cell_type": "markdown",
   "id": "959bc98a",
   "metadata": {},
   "source": [
    "# 12."
   ]
  },
  {
   "cell_type": "code",
   "execution_count": 15,
   "id": "1c2a4f3e",
   "metadata": {},
   "outputs": [],
   "source": [
    "# Lists and string values are both types of sequences in Python, and they share some similarities:\n",
    "\n",
    "#a) Sequential Data: Both lists and strings are sequences of elements. In a string, the elements are characters, while in a list,\n",
    "# the elements can be of any data type (e.g., integers, strings, floats).\n",
    "\n",
    "#b) Indexing: Both lists and strings support indexing, which means you can access individual elements by their position in the\n",
    "#  sequence. Indexing starts at 0 for both lists and strings.\n",
    "\n",
    "#c) Slicing: You can use slicing to extract a portion of a list or a string. Slicing allows you to create a new sequence \n",
    "#  containing a subset of the original elements.\n",
    "\n",
    "#d) Iteration: You can iterate over both lists and strings using loops (e.g., for loops). This allows you to access each\n",
    "#  element in the sequence one by one.\n",
    "\n",
    "#e) Length: You can determine the length of a list or a string using the len() function. The length corresponds to the number\n",
    "#  of elements in the sequence."
   ]
  },
  {
   "cell_type": "markdown",
   "id": "6461a38c",
   "metadata": {},
   "source": [
    "# 13."
   ]
  },
  {
   "cell_type": "code",
   "execution_count": 16,
   "id": "d16ba095",
   "metadata": {},
   "outputs": [],
   "source": [
    "# List:\n",
    "# i) Lists are mutable, which means you can modify, add, or remove elements after the list is created.\n",
    "# ii) Lists are defined using square brackets [], and elements are separated by commas.\n",
    "# iii)Less memory efficient.\n",
    "# iv)Lists are often used for collections of homogeneous items (e.g., a list of numbers, strings, or objects)\n",
    "#  where you may need to modify the elements or change the order.\n",
    "\n",
    "# Tuple:\n",
    "# i) Tuples are immutable, which means once a tuple is created, you cannot change its elements.\n",
    "# ii) Tuples are defined using parentheses (), and elements are also separated by commas.\n",
    "# iii) Tuples are generally more efficient in terms of memory and performance compared to lists/\n",
    "# iv) Tuples are commonly used for collections of heterogeneous items (e.g., a tuple representing a point in 2D space\n",
    "#     with x and y coordinates) where immutability and performance are desired."
   ]
  },
  {
   "cell_type": "markdown",
   "id": "299c1191",
   "metadata": {},
   "source": [
    "# 14."
   ]
  },
  {
   "cell_type": "code",
   "execution_count": 17,
   "id": "d0be89b7",
   "metadata": {},
   "outputs": [],
   "source": [
    "tup = (42,)"
   ]
  },
  {
   "cell_type": "markdown",
   "id": "6ea701c7",
   "metadata": {},
   "source": [
    "# 15."
   ]
  },
  {
   "cell_type": "code",
   "execution_count": 20,
   "id": "76222953",
   "metadata": {},
   "outputs": [
    {
     "name": "stdout",
     "output_type": "stream",
     "text": [
      "(1, 2, 3, 4)\n"
     ]
    }
   ],
   "source": [
    "# converting list to tuple\n",
    "l = [1,2,3,4]\n",
    "tup = tuple(l)\n",
    "print(tup)"
   ]
  },
  {
   "cell_type": "code",
   "execution_count": 21,
   "id": "74be82b6",
   "metadata": {},
   "outputs": [
    {
     "name": "stdout",
     "output_type": "stream",
     "text": [
      "[1, 2, 3, 4]\n"
     ]
    }
   ],
   "source": [
    "# converting tuple to list\n",
    "l = list(tup)\n",
    "print(l)"
   ]
  },
  {
   "cell_type": "markdown",
   "id": "a83da8bf",
   "metadata": {},
   "source": [
    "# 16."
   ]
  },
  {
   "cell_type": "code",
   "execution_count": 22,
   "id": "3460ce03",
   "metadata": {},
   "outputs": [],
   "source": [
    "# Variables that \"contain\" list values are not necessarily lists themselves. Instead, they contain references or pointers\n",
    "#  to the list objects. In Python, variables are like labels or tags attached to objects in memory, and when a variable \n",
    "#  is assigned a list, it actually holds a reference to the memory location where the list is stored. \n",
    "#  This reference allows Python to access and manipulate the list data when the variable is used in operations or expression"
   ]
  },
  {
   "cell_type": "markdown",
   "id": "0de91c9e",
   "metadata": {},
   "source": [
    "# 17."
   ]
  },
  {
   "cell_type": "code",
   "execution_count": 23,
   "id": "368eebb0",
   "metadata": {},
   "outputs": [],
   "source": [
    "# In Python, the copy.copy() and copy.deepcopy() functions are used to create copies of objects, but they behave differently\n",
    "#   when dealing with nested objects or mutable objects within objects.\n",
    "    \n",
    "# Here's how they differ:\n",
    "\n",
    "# a) copy.copy(): This function creates a shallow copy of an object. It means that while the top-level object is copied,\n",
    "#     any nested objects or elements within the object are still references to the original objects. Changes made to nested \n",
    "#     objects in the copied object will affect the original object and vice versa.\n",
    "\n",
    "# b) copy.deepcopy(): This function creates a deep copy of an object. It means that not only the top-level object is copied \n",
    "#     but also any nested objects or elements within the object are recursively copied. This ensures that changes made to\n",
    "#     nested objects in the copied object do not affect the original object and vice versa."
   ]
  },
  {
   "cell_type": "code",
   "execution_count": 24,
   "id": "55c4f6ae",
   "metadata": {},
   "outputs": [
    {
     "name": "stdout",
     "output_type": "stream",
     "text": [
      "Original List: [1, ['modified', 3], 4]\n",
      "Shallow Copy List: [1, ['modified', 3], 4]\n",
      "Deep Copy List: [1, ['modified', 3], 4]\n"
     ]
    }
   ],
   "source": [
    "import copy\n",
    "\n",
    "# Original list with nested list\n",
    "original_list = [1, [2, 3], 4]\n",
    "\n",
    "# Shallow copy using copy.copy()\n",
    "shallow_copy_list = copy.copy(original_list)\n",
    "\n",
    "# Deep copy using copy.deepcopy()\n",
    "deep_copy_list = copy.deepcopy(original_list)\n",
    "\n",
    "# Modify the nested list in the shallow copy\n",
    "shallow_copy_list[1][0] = 'modified'\n",
    "\n",
    "# Modify the nested list in the deep copy\n",
    "deep_copy_list[1][0] = 'modified'\n",
    "\n",
    "# Print original list and copies\n",
    "print(\"Original List:\", original_list)\n",
    "print(\"Shallow Copy List:\", shallow_copy_list)\n",
    "print(\"Deep Copy List:\", deep_copy_list)"
   ]
  },
  {
   "cell_type": "code",
   "execution_count": null,
   "id": "634badaf",
   "metadata": {},
   "outputs": [],
   "source": []
  }
 ],
 "metadata": {
  "kernelspec": {
   "display_name": "Python 3 (ipykernel)",
   "language": "python",
   "name": "python3"
  },
  "language_info": {
   "codemirror_mode": {
    "name": "ipython",
    "version": 3
   },
   "file_extension": ".py",
   "mimetype": "text/x-python",
   "name": "python",
   "nbconvert_exporter": "python",
   "pygments_lexer": "ipython3",
   "version": "3.11.5"
  }
 },
 "nbformat": 4,
 "nbformat_minor": 5
}
